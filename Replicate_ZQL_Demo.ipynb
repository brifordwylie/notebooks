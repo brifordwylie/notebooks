{
 "cells": [
  {
   "cell_type": "markdown",
   "metadata": {},
   "source": [
    "<div style=\"float: right; margin: 20px 20px 20px 20px\"><img src=\"images/bro.png\" width=\"100px\"></div>\n",
    "\n",
    "# Replicating ZQ/ZQL Demo\n",
    "This script replicates much of the ZQ functionality shown in this 'Zeek at Home' Demo (from Brim Security):\n",
    "- https://www.youtube.com/watch?v=ldrEadAQYTM. \n",
    "\n",
    "In this notebook we'll load up some Zeek logs, convert the logs to Parquet files. We also perform some data exploration, querying, and analysis with Spark. \n",
    "\n",
    "### Context\n",
    "Brim Security makes a cool product, in addition, they are open sourcing all of the code shown in their youtube 'Zeek at Home' demo. So two big thumbs up for that. Having new functionality and alternatives is always a good thing, so please go check out their product and give them a 'star' on their repos. \n",
    "\n",
    "This notebook is sharing a personal perspective, in particular I'm a big fan of using/leveraging popular toolkits/libraries whenever possible. One of the goals of my software is to help 'bridge' from one cool thing to another. For instance **Zeek to Parquet** or **Zeek to Spark** or **Zeek to Kafka to Spark**. When you're leveraging popular open source your often taking advantage of **>10k person hours of work**, so NOT doing this should be viewed with a large amount of scepticism. :)\n",
    "\n",
    "<div style=\"float: right; margin: 30px 0px 0px 0px\"><img src=\"images/parquet.png\" width=\"280px\"></div>\n",
    "\n",
    "### Opinions\n",
    "Obviously opinions are subjective and the 'right thing' is based on your use cases.. but from my experience using popular open source libraries/formats like Spark and Parquet give you significant benefits for **most** use cases. In particular both Spark and Parquet 'scale up' from laptop, to beefy server, to AWS/Azure mega clusters. So from a developmentment tool chain perspective, you can prototype on your laptop and then use the same code/approaches as you scale up.\n",
    "- **Parquet** > ZNG\n",
    "- **Spark** >> ZQ/ZQL\n",
    "<br><br><br>\n",
    "\n",
    "<div style=\"float: right; margin: -80px 0px 0px 0px\"><img src=\"images/spark.png\" width=\"220px\"></div>\n",
    "\n",
    "### Notebook Install Requirements\n",
    "```pip install zat```\n",
    "\n",
    "### Notes\n",
    "- Zeek Analysis Tools (ZAT) was shown at BroCon 2017: https://youtu.be/pG5lU9CLnIU\n",
    "- ZAT is simply a 'helper' library, it helps you convert Zeek logs to Parquet and makes loading Zeek data into Spark easy.\n",
    "- In addition to the tiny bit of functionality shown here, Spark has awesome data exploration, transformations, pipelines, and of course, machine learning libraries.\n",
    "  - https://nbviewer.jupyter.org/github/SuperCowPowers/zat/blob/master/notebooks\n",
    "\n",
    "\n",
    "### Software\n",
    "- Zeek Analysis Tools (ZAT): https://github.com/SuperCowPowers/zat\n",
    "- Parquet: https://parquet.apache.org\n",
    "- Spark: https://spark.apache.org\n",
    "\n",
    "### Data\n",
    "- This script uses a Zeek CONN log with ~23 million rows and also a HTTP log\n",
    "- Both datasets are available here: https://data.kitware.com/#collection/58d564478d777f0aef5d893a"
   ]
  },
  {
   "cell_type": "code",
   "execution_count": 1,
   "metadata": {},
   "outputs": [
    {
     "name": "stdout",
     "output_type": "stream",
     "text": [
      "ZAT: 0.3.9\n",
      "PySpark: 3.0.0\n"
     ]
    }
   ],
   "source": [
    "# Third Party Imports\n",
    "import pyspark\n",
    "from pyspark.sql import SparkSession\n",
    "import pyspark.sql.functions as F\n",
    "\n",
    "# ZAT imports\n",
    "import zat\n",
    "from zat import log_to_sparkdf\n",
    "\n",
    "# Good to print out versions of stuff\n",
    "print('ZAT: {:s}'.format(zat.__version__))\n",
    "print('PySpark: {:s}'.format(pyspark.__version__))"
   ]
  },
  {
   "cell_type": "markdown",
   "metadata": {},
   "source": [
    "<div style=\"float: right; margin: 20px 20px 20px 20px\"><img src=\"images/spark.png\" width=\"200px\"></div>\n",
    "\n",
    "# Spark It!\n",
    "### Spin up Spark with 4 Parallel Executors\n",
    "Here we're spinning up a local spark server with 4 parallel executors, although this might seem a bit silly since we're probably running this on a laptop, there are a couple of important observations:\n",
    "\n",
    "<div style=\"float: right; margin: 20px 20px 20px 20px\"><img src=\"images/spark_jobs.png\" width=\"400px\"></div>\n",
    "\n",
    "- If you have 4/8 cores use them!\n",
    "- It's the exact same code logic as if we were running on a distributed cluster.\n",
    "- We run the same code on **DataBricks** (www.databricks.com) which is awesome BTW.\n",
    "\n"
   ]
  },
  {
   "cell_type": "code",
   "execution_count": 2,
   "metadata": {},
   "outputs": [],
   "source": [
    "# Spin up a local Spark Session (with 4 executors)\n",
    "spark = SparkSession.builder.master('local[4]').appName('my_awesome').getOrCreate()"
   ]
  },
  {
   "cell_type": "code",
   "execution_count": 5,
   "metadata": {},
   "outputs": [],
   "source": [
    "# Use the ZAT class to load our log file into a Spark dataframe\n",
    "spark_it = log_to_sparkdf.LogToSparkDF(spark)\n",
    "\n",
    "# Read in Zeek HTTP Log\n",
    "data_path = '/Users/briford/data/bro/http.log'  # Obviously you'll need to change this :)\n",
    "http_df = spark_it.create_dataframe(data_path)"
   ]
  },
  {
   "cell_type": "markdown",
   "metadata": {},
   "source": [
    "<div style=\"float: right; margin: 0px 0px 0px -80px\"><img src=\"images/spark_distributed.png\" width=\"500px\"></div>\n",
    "\n",
    "# Spark Workers and Data Partitions\n",
    "Spark will read in and partition the data out to our workers. Our dataframe(rdd) will have some number of partitions that are divided up amongst the worker pool. Each worker will operate on only a subset of the data and Spark will manage the 'magic' for how that work gets run, aggregated and presented.\n",
    "\n",
    "\n",
    "**Image Credit:** Jacek Laskowski, please see his excellent book - Mastering Apache Spark  https://jaceklaskowski.gitbooks.io/mastering-apache-spark"
   ]
  },
  {
   "cell_type": "code",
   "execution_count": 7,
   "metadata": {},
   "outputs": [
    {
     "data": {
      "text/plain": [
       "11"
      ]
     },
     "execution_count": 7,
     "metadata": {},
     "output_type": "execute_result"
    }
   ],
   "source": [
    "http_df.rdd.getNumPartitions()"
   ]
  },
  {
   "cell_type": "markdown",
   "metadata": {},
   "source": [
    "## Replicate functionality shown at https://youtu.be/ldrEadAQYTM?t=923\n",
    "We're using HTTP data instead of SMB but this basically replicates the group/aggregate/count functionality they showed in the demo."
   ]
  },
  {
   "cell_type": "code",
   "execution_count": 8,
   "metadata": {},
   "outputs": [
    {
     "name": "stdout",
     "output_type": "stream",
     "text": [
      "+-------+-----------+-------+\n",
      "| method|status_code|  count|\n",
      "+-------+-----------+-------+\n",
      "|   HEAD|        404|1294022|\n",
      "|    GET|        404| 429283|\n",
      "|   POST|        200| 125638|\n",
      "|    GET|        200|  88631|\n",
      "|   POST|          0|  32918|\n",
      "|    GET|        400|  29152|\n",
      "|    GET|        303|  10858|\n",
      "|    GET|        403|   8530|\n",
      "|   POST|        404|   4277|\n",
      "|    GET|        304|   3851|\n",
      "|    GET|        302|   3250|\n",
      "|    GET|          0|   2906|\n",
      "|    GET|        401|   2159|\n",
      "|OPTIONS|        200|   1897|\n",
      "|   POST|        302|   1226|\n",
      "|   HEAD|        503|   1010|\n",
      "|   POST|        206|    869|\n",
      "|    GET|        301|    642|\n",
      "|   HEAD|          0|    606|\n",
      "|    GET|        503|    550|\n",
      "+-------+-----------+-------+\n",
      "only showing top 20 rows\n",
      "\n"
     ]
    }
   ],
   "source": [
    "http_df.groupby('method', 'status_code').count().sort('count', ascending=False).show()"
   ]
  },
  {
   "cell_type": "markdown",
   "metadata": {},
   "source": [
    "<div style=\"float: right; margin: 30px 0px 0px 0px\"><img src=\"images/parquet.png\" width=\"400px\"></div>\n",
    "\n",
    "# Convert my Zeek logs to Parquet files\n",
    "Apache Parquet is a columnar storage format focused on performance. Here's we going to convert our Zeek/Zeek log to a Parquet file is one line of code. The conversion is super scalable since we're using spark distributed executors to do the conversions."
   ]
  },
  {
   "cell_type": "code",
   "execution_count": 9,
   "metadata": {},
   "outputs": [],
   "source": [
    "# Read in a Zeek CONN Log\n",
    "data_path = '/Users/briford/data/bro/conn.log'  # Obviously you'll need to change this :)\n",
    "conn_df = spark_it.create_dataframe(data_path)"
   ]
  },
  {
   "cell_type": "code",
   "execution_count": 10,
   "metadata": {},
   "outputs": [],
   "source": [
    "# DataFrames can be saved as Parquet files, maintaining the schema information.\n",
    "conn_df.write.parquet('conn.parquet', compression='gzip')"
   ]
  },
  {
   "cell_type": "code",
   "execution_count": 11,
   "metadata": {},
   "outputs": [],
   "source": [
    "# Have Spark read in the Parquet File\n",
    "conn_df = spark.read.parquet('conn.parquet')"
   ]
  },
  {
   "cell_type": "markdown",
   "metadata": {},
   "source": [
    "<div style=\"float: right; margin: 20px 20px 20px 20px\"><img src=\"images/compressed.jpeg\" width=\"300px\"></div>\n",
    "\n",
    "# Parquet files are compressed\n",
    "Here we see the first benefit of Parquet which stores data with compressed columnar format. There are several compression options available (including uncompressed).\n",
    "\n",
    "## Original conn.log = 2.5 GB \n",
    "## conn.parquet = ~420MB"
   ]
  },
  {
   "cell_type": "markdown",
   "metadata": {},
   "source": [
    "<div style=\"float: left; margin: 20px 20px 20px 20px\"><img src=\"images/nuked_crop.jpg\" width=\"150px\"></div>\n",
    "\n",
    "\n",
    "# Light it Up!\n",
    "Now that we have our Parquet data loaded into Spark, we're going to demonstrate just a few simple Spark operations but obviously you now have the full power of the Death Star in your hands.\n",
    "\n",
    "<div style=\"float: left; margin: 20px 0px 0px 50px\"><img src=\"images/spark_sql.jpg\" width=\"150px\"></div>\n",
    "<div style=\"float: left; margin: 0px 0px 0px 50px\"><img src=\"images/mllib.png\" width=\"150px\"></div>"
   ]
  },
  {
   "cell_type": "code",
   "execution_count": 12,
   "metadata": {},
   "outputs": [
    {
     "name": "stdout",
     "output_type": "stream",
     "text": [
      "Number of Rows: 22694356\n",
      "Columns: ts,uid,id_orig_h,id_orig_p,id_resp_h,id_resp_p,proto,service,duration,orig_bytes,resp_bytes,conn_state,local_orig,missed_bytes,history,orig_pkts,orig_ip_bytes,resp_pkts,resp_ip_bytes,tunnel_parents\n"
     ]
    }
   ],
   "source": [
    "# Get information about the Spark DataFrame\n",
    "num_rows = conn_df.count()\n",
    "print(\"Number of Rows: {:d}\".format(num_rows))\n",
    "columns = conn_df.columns\n",
    "print(\"Columns: {:s}\".format(','.join(columns)))"
   ]
  },
  {
   "cell_type": "markdown",
   "metadata": {},
   "source": [
    "<div style=\"float: right; margin: 20px 20px 20px 20px\"><img src=\"images/fast.jpg\" width=\"350px\"></div>\n",
    "\n",
    "# Did we mention fast?\n",
    "The query below was executed on 4 workers. The data contains over 22 million Zeek conn log entries and the time to complete was a **fraction of a second** running on my Mac Laptop :)"
   ]
  },
  {
   "cell_type": "code",
   "execution_count": 16,
   "metadata": {},
   "outputs": [
    {
     "name": "stdout",
     "output_type": "stream",
     "text": [
      "+-----+--------+------+\n",
      "|proto| service| count|\n",
      "+-----+--------+------+\n",
      "|  tcp|    http|445214|\n",
      "|  udp|     dns|160559|\n",
      "|  tcp|     ssl| 49017|\n",
      "|  tcp|     ssh|  4778|\n",
      "|  udp|    dhcp|  3052|\n",
      "|  tcp|ftp-data|  2880|\n",
      "|  tcp|     ftp|  2675|\n",
      "|  tcp|     dns|   706|\n",
      "|  tcp|    smtp|   194|\n",
      "|  tcp|    pop3|     2|\n",
      "+-----+--------+------+\n",
      "\n",
      "522 ms ± 0 ns per loop (mean ± std. dev. of 1 run, 1 loop each)\n"
     ]
    }
   ],
   "source": [
    "# Lets look at some 'service' breakdowns in our Zeek conn log\n",
    "conn_df = conn_df.filter(conn_df['service'] != '-')\n",
    "%timeit -r 1 -n 1 conn_df.groupby('proto','service').count().sort('count', ascending=False).show()   "
   ]
  },
  {
   "cell_type": "markdown",
   "metadata": {},
   "source": [
    "## Replicate 'power user' functionality shown at https://youtu.be/ldrEadAQYTM?t=941\n",
    "We'll do a 'pipeline' of operations similar to the demo\n",
    "- First select just the columns we want (CUT)\n",
    "- Next create a new column with an aggregation of other columns\n",
    "- Last do the avg and sum of the total bytes"
   ]
  },
  {
   "cell_type": "code",
   "execution_count": 17,
   "metadata": {},
   "outputs": [
    {
     "name": "stdout",
     "output_type": "stream",
     "text": [
      "+------------------+----------+----------+-----------+\n",
      "|               uid|orig_bytes|resp_bytes|total_bytes|\n",
      "+------------------+----------+----------+-----------+\n",
      "| C7bMbs9ZbZOfKk2o7|     29737|     15395|      45132|\n",
      "| CJcxhQH5ac9BFaA05|        62|         0|         62|\n",
      "|CaikKr23aO1enqyq6j|        48|         0|         48|\n",
      "|CPcix93BFygB2ANPtj|     29515|     15395|      44910|\n",
      "|C0plQI2cQSN3eC2ROh|     29597|     15395|      44992|\n",
      "+------------------+----------+----------+-----------+\n",
      "only showing top 5 rows\n",
      "\n",
      "+-----------------+----------------+\n",
      "| avg(total_bytes)|sum(total_bytes)|\n",
      "+-----------------+----------------+\n",
      "|68829.53709214335|     46052260189|\n",
      "+-----------------+----------------+\n",
      "\n"
     ]
    }
   ],
   "source": [
    "# First select just the columns we want (CUT)\n",
    "cut_df = conn_df.select(['uid', 'orig_bytes', 'resp_bytes'])\n",
    "\n",
    "# Next create a new column with an aggregation of other columns\n",
    "cut_df = cut_df.withColumn('total_bytes', sum([cut_df['orig_bytes'], cut_df['resp_bytes']]))\n",
    "no_zero_df = cut_df.filter(cut_df['total_bytes'] != 0)\n",
    "no_zero_df.show(5)\n",
    "\n",
    "# Last do the avg and sum of the total bytes\n",
    "cut_df.select(F.avg(F.col('total_bytes')), F.sum(F.col('total_bytes'))).show()"
   ]
  },
  {
   "cell_type": "markdown",
   "metadata": {},
   "source": [
    "# Okay now perhaps something a bit more useful\n",
    "- First filter out unknown services\n",
    "- More meaningful aggregation based on IP, port, and service"
   ]
  },
  {
   "cell_type": "code",
   "execution_count": 19,
   "metadata": {},
   "outputs": [
    {
     "name": "stdout",
     "output_type": "stream",
     "text": [
      "+---------------+---------+-------+-----------+\n",
      "|      id_orig_h|id_resp_p|service|total_bytes|\n",
      "+---------------+---------+-------+-----------+\n",
      "| 192.168.202.88|       22|    ssh|  491259422|\n",
      "| 192.168.203.63|       80|   http|  381506783|\n",
      "|192.168.202.102|       80|   http|   80956460|\n",
      "| 192.168.202.79|       80|   http|   54699732|\n",
      "| 192.168.202.81|       22|    ssh|   42247132|\n",
      "|192.168.202.110|       80|   http|   37952120|\n",
      "|192.168.202.118|       80|   http|   18731116|\n",
      "|192.168.202.110|      443|    ssl|   17883212|\n",
      "| 192.168.202.95|       22|    ssh|   13947240|\n",
      "| 192.168.202.96|       80|   http|   11871726|\n",
      "|192.168.202.138|       80|   http|   10689231|\n",
      "| 192.168.202.65|      443|    ssl|    8550078|\n",
      "|192.168.202.140|       80|   http|    7860895|\n",
      "| 192.168.204.45|    55553|    ssl|    6489031|\n",
      "|192.168.202.110|     8080|   http|    5595350|\n",
      "|192.168.202.140|      443|    ssl|    4883939|\n",
      "|192.168.202.125|       80|   http|    4289446|\n",
      "|192.168.202.141|       80|   http|    4248981|\n",
      "| 192.168.28.203|       22|    ssh|    3656175|\n",
      "| 192.168.203.64|    55553|    ssl|    3510471|\n",
      "+---------------+---------+-------+-----------+\n",
      "only showing top 20 rows\n",
      "\n"
     ]
    }
   ],
   "source": [
    "# First filter out unknown services\n",
    "conn_df = conn_df.filter(conn_df['service'] != '-')\n",
    "\n",
    "# More meaningful aggregation based on IP, port, and service\n",
    "conn_df.groupby('id_orig_h', 'id_resp_p', 'service') \\\n",
    "    .agg(F.sum('orig_bytes').alias('total_bytes')) \\\n",
    "    .sort('total_bytes', ascending=False).show()"
   ]
  },
  {
   "cell_type": "markdown",
   "metadata": {},
   "source": [
    "<div style=\"float: right; margin: 50px 0px 0px 20px\"><img src=\"images/deep_dive.jpeg\" width=\"350px\"></div>\n",
    "\n",
    "# Data looks good, lets take a deeper dive\n",
    "Spark has a powerful SQL engine as well as a Machine Learning library. So now that we've got the data loaded into a Spark Dataframe we're going to utilize Spark SQL commands to do some investigation and clustering using the Spark MLLib. For this deeper dive we're going to go to another notebook :)\n",
    "\n",
    "### Spark Clustering Notebook\n",
    "- [Zeek Spark Clustering](https://nbviewer.jupyter.org/github/SuperCowPowers/zat/blob/master/notebooks/Spark_Clustering.ipynb)\n",
    "\n",
    "<div style=\"float: left; margin: 0px 0px 0px 0px\"><img src=\"images/spark_sql.jpg\" width=\"150px\"></div>\n",
    "<div style=\"float: left; margin: -20px 50px 0px 0px\"><img src=\"images/mllib.png\" width=\"150px\"></div>"
   ]
  }
 ],
 "metadata": {
  "kernelspec": {
   "display_name": "Python 3",
   "language": "python",
   "name": "python3"
  },
  "language_info": {
   "codemirror_mode": {
    "name": "ipython",
    "version": 3
   },
   "file_extension": ".py",
   "mimetype": "text/x-python",
   "name": "python",
   "nbconvert_exporter": "python",
   "pygments_lexer": "ipython3",
   "version": "3.7.4"
  }
 },
 "nbformat": 4,
 "nbformat_minor": 2
}
